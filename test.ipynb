{
 "cells": [
  {
   "cell_type": "code",
   "execution_count": 1,
   "id": "3de96ef2",
   "metadata": {},
   "outputs": [],
   "source": [
    "import matplotlib.pyplot as plt\n",
    "import numpy as np\n",
    "import torch\n",
    "import cv2\n",
    "import sys\n",
    "sys.path.append(\".\")\n",
    "sys.path.append(\"..\")\n",
    "from datasetloader.data_loader_MSRAHT import MSRA_HT\n",
    "from utils.hand_detector import HandDetector"
   ]
  },
  {
   "cell_type": "code",
   "execution_count": 93,
   "id": "139f6291",
   "metadata": {},
   "outputs": [],
   "source": [
    "rot = torch.randn(778,3).unsqueeze(0)\n",
    "scale = torch.randn(1)\n",
    "trans = torch.randn(2).unsqueeze(0)"
   ]
  },
  {
   "cell_type": "code",
   "execution_count": 95,
   "id": "7410fb1e",
   "metadata": {},
   "outputs": [
    {
     "name": "stdout",
     "output_type": "stream",
     "text": [
      "torch.Size([1, 778, 3])\n",
      "torch.Size([1])\n",
      "torch.Size([1, 2])\n"
     ]
    }
   ],
   "source": [
    "print(rot.shape)\n",
    "print(scale.shape)\n",
    "print(trans.shape)"
   ]
  },
  {
   "cell_type": "code",
   "execution_count": 92,
   "id": "362e50a8",
   "metadata": {},
   "outputs": [
    {
     "data": {
      "text/plain": [
       "tensor([[[1.4301]]])"
      ]
     },
     "execution_count": 92,
     "metadata": {},
     "output_type": "execute_result"
    }
   ],
   "source": [
    "scale.unsqueeze(0).unsqueeze(1)"
   ]
  },
  {
   "cell_type": "code",
   "execution_count": 103,
   "id": "83119429",
   "metadata": {},
   "outputs": [
    {
     "data": {
      "text/plain": [
       "tensor([[[0.2715, 0.5635]]])"
      ]
     },
     "execution_count": 103,
     "metadata": {},
     "output_type": "execute_result"
    }
   ],
   "source": [
    "trans.unsqueeze(0)"
   ]
  },
  {
   "cell_type": "code",
   "execution_count": 101,
   "id": "e6f59ed7",
   "metadata": {},
   "outputs": [
    {
     "data": {
      "text/plain": [
       "tensor([[[-5.3810, -1.2348],\n",
       "         [ 2.4118,  3.1869],\n",
       "         [ 1.4056,  4.6517],\n",
       "         ...,\n",
       "         [-4.0475,  0.3826],\n",
       "         [-1.7148,  5.4869],\n",
       "         [-5.7752,  2.3516]]])"
      ]
     },
     "execution_count": 101,
     "metadata": {},
     "output_type": "execute_result"
    }
   ],
   "source": [
    "rot[:,:,:2]*scale.unsqueeze(0).unsqueeze(1)"
   ]
  }
 ],
 "metadata": {
  "kernelspec": {
   "display_name": "Python 3 (ipykernel)",
   "language": "python",
   "name": "python3"
  },
  "language_info": {
   "codemirror_mode": {
    "name": "ipython",
    "version": 3
   },
   "file_extension": ".py",
   "mimetype": "text/x-python",
   "name": "python",
   "nbconvert_exporter": "python",
   "pygments_lexer": "ipython3",
   "version": "3.8.12"
  }
 },
 "nbformat": 4,
 "nbformat_minor": 5
}
