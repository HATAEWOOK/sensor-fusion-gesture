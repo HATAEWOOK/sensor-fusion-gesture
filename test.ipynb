{
 "cells": [
  {
   "cell_type": "code",
   "execution_count": 1,
   "id": "3de96ef2",
   "metadata": {},
   "outputs": [],
   "source": [
    "import matplotlib.pyplot as plt\n",
    "import numpy as np\n",
    "import torch\n",
    "import cv2\n",
    "import sys\n",
    "sys.path.append(\".\")\n",
    "sys.path.append(\"..\")\n",
    "from datasetloader.data_loader_MSRAHT import MSRA_HT, get_dataset\n",
    "from utils.hand_detector import HandDetector\n",
    "from utils.train_utils import set_vis"
   ]
  },
  {
   "cell_type": "code",
   "execution_count": 3,
   "id": "d776485e",
   "metadata": {},
   "outputs": [],
   "source": [
    "ang = torch.randn(10,39)\n",
    "pose = torch.randn(10,45)"
   ]
  },
  {
   "cell_type": "code",
   "execution_count": 4,
   "id": "616c004f",
   "metadata": {},
   "outputs": [
    {
     "name": "stdout",
     "output_type": "stream",
     "text": [
      "torch.Size([10, 39])\n",
      "torch.Size([10, 45])\n"
     ]
    }
   ],
   "source": [
    "print(ang.shape)\n",
    "print(pose.shape)"
   ]
  },
  {
   "cell_type": "code",
   "execution_count": 5,
   "id": "aa371464",
   "metadata": {},
   "outputs": [],
   "source": [
    "tmp = torch.cat((ang[:,:16], pose), dim=1)"
   ]
  },
  {
   "cell_type": "code",
   "execution_count": 6,
   "id": "0a62d381",
   "metadata": {},
   "outputs": [
    {
     "data": {
      "text/plain": [
       "torch.Size([10, 61])"
      ]
     },
     "execution_count": 6,
     "metadata": {},
     "output_type": "execute_result"
    }
   ],
   "source": [
    "tmp.shape"
   ]
  }
 ],
 "metadata": {
  "kernelspec": {
   "display_name": "Python 3 (ipykernel)",
   "language": "python",
   "name": "python3"
  },
  "language_info": {
   "codemirror_mode": {
    "name": "ipython",
    "version": 3
   },
   "file_extension": ".py",
   "mimetype": "text/x-python",
   "name": "python",
   "nbconvert_exporter": "python",
   "pygments_lexer": "ipython3",
   "version": "3.8.12"
  }
 },
 "nbformat": 4,
 "nbformat_minor": 5
}
