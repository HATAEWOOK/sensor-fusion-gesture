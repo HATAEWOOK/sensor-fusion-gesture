{
 "cells": [
  {
   "cell_type": "code",
   "execution_count": 37,
   "id": "3de96ef2",
   "metadata": {},
   "outputs": [],
   "source": [
    "import matplotlib.pyplot as plt\n",
    "import numpy as np\n",
    "import torch\n",
    "import cv2\n",
    "import sys\n",
    "sys.path.append(\".\")\n",
    "sys.path.append(\"..\")\n",
    "from datasetloader.data_loader_MSRAHT import MSRA_HT\n",
    "from utils.hand_detector import HandDetector"
   ]
  },
  {
   "cell_type": "code",
   "execution_count": 55,
   "id": "366e3f9c",
   "metadata": {},
   "outputs": [],
   "source": [
    "path = 'D:/datasets/cvpr14_MSRAHandTrackingDB/cvpr14_MSRAHandTrackingDB'\n",
    "hand_dataset = MSRA_HT(path)\n",
    "import os"
   ]
  },
  {
   "cell_type": "code",
   "execution_count": 58,
   "id": "0b4904a7",
   "metadata": {},
   "outputs": [],
   "source": [
    "for i in range(len(hand_dataset)):\n",
    "    path_ = os.path.join('D:/sfGesture/target', '%5d.png' % (i))\n",
    "    dp = hand_dataset.get_depth(i)\n",
    "    fx = fy = 241.42\n",
    "    hd = HandDetector(dp, fx, fy)\n",
    "    com = hd.calculateCoM(dp)\n",
    "    bound = hd.comToBounds(com, (200,200,200))\n",
    "    cropped = hd.getCrop(dp, *bound)\n",
    "    cropped /= np.max(cropped)\n",
    "    cropped_resize = cv2.resize(cropped, (224,224))\n",
    "    fig = plt.figure(1, figsize=[6, 6])\n",
    "    plt.imshow(cropped, cmap='gray')\n",
    "    plt.axis('off')\n",
    "    fig.savefig(path_)\n",
    "    plt.close(fig)"
   ]
  },
  {
   "cell_type": "code",
   "execution_count": 60,
   "id": "03c33234",
   "metadata": {},
   "outputs": [
    {
     "name": "stdout",
     "output_type": "stream",
     "text": [
      "0.0\n"
     ]
    }
   ],
   "source": [
    "print(np.min(cropped))"
   ]
  },
  {
   "cell_type": "code",
   "execution_count": 51,
   "metadata": {},
   "outputs": [],
   "source": [
    "dp = hand_dataset.get_depth(224)\n",
    "fx = fy = 241.42\n",
    "hd = HandDetector(dp, fx, fy)\n",
    "com = hd.calculateCoM(dp)\n",
    "bound = hd.comToBounds(com, (200,200,200))\n",
    "cropped = hd.getCrop(dp, *bound)"
   ]
  },
  {
   "cell_type": "code",
   "execution_count": 52,
   "id": "d908a44b",
   "metadata": {},
   "outputs": [
    {
     "data": {
      "image/png": "[encoded data removed]",
      "text/plain": [
       "<Figure size 432x288 with 1 Axes>"
      ]
     },
     "metadata": {
      "needs_background": "light"
     },
     "output_type": "display_data"
    }
   ],
   "source": [
    "plt.figure()\n",
    "plt.imshow(cropped)\n",
    "plt.show()"
   ]
  },
  {
   "cell_type": "code",
   "execution_count": 54,
   "id": "ac8e3a30",
   "metadata": {},
   "outputs": [
    {
     "name": "stdout",
     "output_type": "stream",
     "text": [
      "423.5\n"
     ]
    }
   ],
   "source": [
    "print(np.max(cropped))"
   ]
  }
 ],
 "metadata": {
  "kernelspec": {
   "display_name": "Python 3 (ipykernel)",
   "language": "python",
   "name": "python3"
  },
  "language_info": {
   "codemirror_mode": {
    "name": "ipython",
    "version": 3
   },
   "file_extension": ".py",
   "mimetype": "text/x-python",
   "name": "python",
   "nbconvert_exporter": "python",
   "pygments_lexer": "ipython3",
   "version": "3.8.12"
  }
 },
 "nbformat": 4,
 "nbformat_minor": 5
}
